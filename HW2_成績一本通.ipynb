{
  "nbformat": 4,
  "nbformat_minor": 0,
  "metadata": {
    "colab": {
      "provenance": [],
      "authorship_tag": "ABX9TyPQc2x/PF0RUqbOjelSYgh9",
      "include_colab_link": true
    },
    "kernelspec": {
      "name": "python3",
      "display_name": "Python 3"
    },
    "language_info": {
      "name": "python"
    }
  },
  "cells": [
    {
      "cell_type": "markdown",
      "metadata": {
        "id": "view-in-github",
        "colab_type": "text"
      },
      "source": [
        "<a href=\"https://colab.research.google.com/github/peculab/PROGRAM/blob/main/HW2_%E6%88%90%E7%B8%BE%E4%B8%80%E6%9C%AC%E9%80%9A.ipynb\" target=\"_parent\"><img src=\"https://colab.research.google.com/assets/colab-badge.svg\" alt=\"Open In Colab\"/></a>"
      ]
    },
    {
      "cell_type": "code",
      "source": [
        "!pip install -q google-generativeai"
      ],
      "metadata": {
        "id": "8dhA2pQxhLLX"
      },
      "execution_count": 1,
      "outputs": []
    },
    {
      "cell_type": "code",
      "source": [
        "import gradio as gr\n",
        "import pandas as pd\n",
        "from google.colab import auth\n",
        "from google.auth import default\n",
        "\n",
        "# -*- coding: utf-8 -*-\n",
        "import gspread\n",
        "from datetime import datetime\n",
        "import google.generativeai as genai\n",
        "import os\n",
        "import json"
      ],
      "metadata": {
        "id": "Niq4EB1Ui-Pk"
      },
      "execution_count": 3,
      "outputs": []
    },
    {
      "cell_type": "code",
      "source": [
        "from google.colab import userdata\n",
        "\n",
        "# 從 Colab Secrets 中獲取 API 金鑰\n",
        "api_key = userdata.get('gemini')\n",
        "\n",
        "# 使用獲取的金鑰配置 genai\n",
        "genai.configure(api_key=api_key)\n",
        "\n",
        "model = genai.GenerativeModel('gemini-2.5-pro')"
      ],
      "metadata": {
        "id": "XjPjVJFnkUCk"
      },
      "execution_count": 4,
      "outputs": []
    },
    {
      "cell_type": "code",
      "source": [
        "SHEET_URL = \"https://docs.google.com/spreadsheets/d/1jR3qRQr2ZvWYKNuv8wen_-eTZWdc5a-LLvH7iymn2zw/edit?usp=sharing\"\n",
        "WORKSHEET_NAME = \"工作表2\"\n",
        "\n",
        "REQUIRED_COLUMNS = [\"日期\", \"科目\", \"作業成績\"]\n",
        "\n",
        "_auth_done = False\n",
        "_gc = None\n",
        "_ws = None"
      ],
      "metadata": {
        "id": "_RATk0PYi-q9"
      },
      "execution_count": 5,
      "outputs": []
    },
    {
      "cell_type": "code",
      "source": [
        "# --- 主要功能區塊 ---\n",
        "def get_user_grades():\n",
        "    \"\"\"\n",
        "    透過終端機輸入學生成績，直到使用者輸入 'q' 結束。\n",
        "    \"\"\"\n",
        "    print(\"--- 準備輸入成績。輸入 'q' 來停止。---\")\n",
        "    grades = []\n",
        "    while True:\n",
        "        subject = input(\"請輸入科目（或輸入 'q' 停止）：\")\n",
        "        if subject.lower() == 'q':\n",
        "            break\n",
        "\n",
        "        grade = input(f\"請輸入 {subject} 的成績：\")\n",
        "        try:\n",
        "            grade = int(grade)\n",
        "        except ValueError:\n",
        "            print(\"成績必須是數字。請重新輸入。\")\n",
        "            continue\n",
        "\n",
        "        today = datetime.now().strftime('%Y-%m-%d')\n",
        "        grades.append([today, subject, grade])\n",
        "        print(f\"已記錄：日期: {today}, 科目: {subject}, 成績: {grade}\\n\")\n",
        "\n",
        "    return grades"
      ],
      "metadata": {
        "id": "8jleG-tykEh1"
      },
      "execution_count": 6,
      "outputs": []
    },
    {
      "cell_type": "code",
      "source": [
        "def get_ai_summary(grades):\n",
        "    \"\"\"\n",
        "    呼叫 Gemini 模型來生成成績摘要與常見迷思。\n",
        "    \"\"\"\n",
        "    model = genai.GenerativeModel('gemini-1.5-flash')\n",
        "\n",
        "    # 準備給 AI 的提示\n",
        "    prompt_text = \"以下是學生的成績列表，請幫我根據這些成績，產出一個簡單的摘要與常見迷思整理（不評分，只做總結）。\\n\\n\"\n",
        "    for record in grades:\n",
        "        date, subject, grade = record\n",
        "        prompt_text += f\"日期：{date}, 科目：{subject}, 成績：{grade}\\n\"\n",
        "\n",
        "    print(\"\\n--- 正在呼叫 AI 模型生成摘要... ---\")\n",
        "    try:\n",
        "        response = model.generate_content(prompt_text)\n",
        "        summary = response.text\n",
        "        return summary\n",
        "    except Exception as e:\n",
        "        print(f\"呼叫 AI 時發生錯誤：{e}\")\n",
        "        return \"AI 摘要生成失敗。\""
      ],
      "metadata": {
        "id": "0ondj4vCktXd"
      },
      "execution_count": 11,
      "outputs": []
    },
    {
      "cell_type": "code",
      "source": [
        "new_grades = get_user_grades()"
      ],
      "metadata": {
        "colab": {
          "base_uri": "https://localhost:8080/"
        },
        "id": "hn_-fzKmnYaA",
        "outputId": "91f30b46-30ab-4e9a-b704-3ad0009e3b4f"
      },
      "execution_count": 12,
      "outputs": [
        {
          "name": "stdout",
          "output_type": "stream",
          "text": [
            "--- 準備輸入成績。輸入 'q' 來停止。---\n",
            "請輸入科目（或輸入 'q' 停止）：a\n",
            "請輸入 a 的成績：10\n",
            "已記錄：日期: 2025-09-25, 科目: a, 成績: 10\n",
            "\n",
            "請輸入科目（或輸入 'q' 停止）：b\n",
            "請輸入 b 的成績：20\n",
            "已記錄：日期: 2025-09-25, 科目: b, 成績: 20\n",
            "\n",
            "請輸入科目（或輸入 'q' 停止）：q\n"
          ]
        }
      ]
    },
    {
      "cell_type": "code",
      "source": [
        "new_grades"
      ],
      "metadata": {
        "colab": {
          "base_uri": "https://localhost:8080/"
        },
        "id": "xHjBRfNFnfB9",
        "outputId": "94d0de77-aff8-4e52-cdbf-ceff5229260d"
      },
      "execution_count": 13,
      "outputs": [
        {
          "output_type": "execute_result",
          "data": {
            "text/plain": [
              "[['2025-09-25', 'a', 10], ['2025-09-25', 'b', 20]]"
            ]
          },
          "metadata": {},
          "execution_count": 13
        }
      ]
    },
    {
      "cell_type": "code",
      "source": [
        "get_ai_summary(new_grades)"
      ],
      "metadata": {
        "colab": {
          "base_uri": "https://localhost:8080/",
          "height": 141
        },
        "id": "33f1UZegm5h_",
        "outputId": "754fffc8-c133-416e-9132-961b0c4140b1"
      },
      "execution_count": 14,
      "outputs": [
        {
          "output_type": "stream",
          "name": "stdout",
          "text": [
            "\n",
            "--- 正在呼叫 AI 模型生成摘要... ---\n"
          ]
        },
        {
          "output_type": "execute_result",
          "data": {
            "text/plain": [
              "'**摘要:**\\n\\n學生於2025年9月25日參加了科目a和科目b的測驗。科目a的成績為10分，科目b的成績為20分。\\n\\n\\n**常見迷思整理:** (由於資料不足，此部分只能提出可能存在的迷思，而非根據資料推論)\\n\\n* **迷思一：單次測驗成績能完全反映學生的學習狀況。**  單一測驗成績可能受到多種因素影響，例如考試當天的狀態、題目難度等，並不能完全代表學生的真實學習水平。\\n* **迷思二：高分代表完全理解所有知識點。**  即使獲得高分，也可能存在某些知識點理解不夠深入或存在知識漏洞的情況。\\n* **迷思三：低分就代表學習完全失敗。** 低分可能反映出學習方法需要調整，或需要更多時間和努力，而非學習的徹底失敗。\\n\\n\\n**需注意:**  以上迷思整理是基於一般學習情況的常見誤解，並非針對學生這兩科的具體情況進行分析。  要更精確的分析，需要更多關於學生的學習過程、學習方法以及考試內容的資訊。\\n'"
            ],
            "application/vnd.google.colaboratory.intrinsic+json": {
              "type": "string"
            }
          },
          "metadata": {},
          "execution_count": 14
        }
      ]
    },
    {
      "cell_type": "code",
      "source": [
        "def main():\n",
        "    \"\"\"\n",
        "    主程式流程：輸入成績 -> 獲取 AI 摘要 -> 寫入 Google Sheet。\n",
        "    \"\"\"\n",
        "    try:\n",
        "        # 1. Google Sheet 身份驗證\n",
        "        auth.authenticate_user()\n",
        "\n",
        "        creds, _ = default()\n",
        "        gc = gspread.authorize(creds)\n",
        "\n",
        "        sh = gc.open_by_url(SHEET_URL)\n",
        "        ws = sh.worksheet(WORKSHEET_NAME)\n",
        "\n",
        "\n",
        "\n",
        "\n",
        "\n",
        "        print(\"--- Google Sheet 連線成功。---\")\n",
        "\n",
        "        # 2. 獲取使用者輸入的成績\n",
        "        new_grades = get_user_grades()\n",
        "\n",
        "        if not new_grades:\n",
        "            print(\"沒有輸入任何成績，程式結束。\")\n",
        "            return\n",
        "\n",
        "        # 3. 將新成績寫入 Google Sheet\n",
        "        ws.append_rows(new_grades)\n",
        "        print(\"\\n--- 成績已成功寫入 Google Sheet。---\")\n",
        "\n",
        "        # 4. 獲取 AI 摘要並寫入 Google Sheet\n",
        "        summary = get_ai_summary(new_grades)\n",
        "\n",
        "        # 尋找第一行空白列\n",
        "        next_row = len(ws.col_values(1)) + 1\n",
        "\n",
        "        # 使用 update_cell() 方法逐一更新儲存格\n",
        "        ws.update_cell(next_row, 1, datetime.now().strftime('%Y-%m-%d'))\n",
        "        ws.update_cell(next_row, 2, 'AI 摘要')\n",
        "\n",
        "        # 為了避免單元格內容過長，將摘要內容分成多行來寫入\n",
        "        summary_lines = summary.split('\\n')\n",
        "        for i, line in enumerate(summary_lines):\n",
        "            ws.update_cell(next_row + i, 3, line)\n",
        "\n",
        "        print(\"\\n--- AI 摘要已成功寫入 Google Sheet。---\")\n",
        "        print(\"以下是 AI 生成的摘要內容：\")\n",
        "        print(\"-\" * 50)\n",
        "        print(summary)\n",
        "        print(\"-\" * 50)\n",
        "\n",
        "    except gspread.exceptions.APIError as e:\n",
        "        print(f\"Google Sheets API 錯誤：{e.response.text}\")\n",
        "        print(\"請確認：\")\n",
        "        print(\"1. 您的服務帳戶金鑰檔案正確且未過期。\")\n",
        "        print(\"2. 您已將服務帳戶的 Email 地址（在 JSON 檔案中）分享給 Google Sheet，並給予編輯權限。\")\n",
        "    except Exception as e:\n",
        "        print(f\"發生未預期的錯誤：{e}\")\n",
        "\n",
        "if __name__ == \"__main__\":\n",
        "    main()"
      ],
      "metadata": {
        "colab": {
          "base_uri": "https://localhost:8080/",
          "height": 710
        },
        "id": "-lyLrutakzqY",
        "outputId": "3d7b01f7-cb73-49ea-b806-1234ea31d261"
      },
      "execution_count": 16,
      "outputs": [
        {
          "output_type": "stream",
          "name": "stdout",
          "text": [
            "--- Google Sheet 連線成功。---\n",
            "--- 準備輸入成績。輸入 'q' 來停止。---\n",
            "請輸入科目（或輸入 'q' 停止）：a\n",
            "請輸入 a 的成績：10\n",
            "已記錄：日期: 2025-09-25, 科目: a, 成績: 10\n",
            "\n",
            "請輸入科目（或輸入 'q' 停止）：b\n",
            "請輸入 b 的成績：20\n",
            "已記錄：日期: 2025-09-25, 科目: b, 成績: 20\n",
            "\n",
            "請輸入科目（或輸入 'q' 停止）：c\n",
            "請輸入 c 的成績：30\n",
            "已記錄：日期: 2025-09-25, 科目: c, 成績: 30\n",
            "\n",
            "請輸入科目（或輸入 'q' 停止）：q\n",
            "\n",
            "--- 成績已成功寫入 Google Sheet。---\n",
            "\n",
            "--- 正在呼叫 AI 模型生成摘要... ---\n",
            "\n",
            "--- AI 摘要已成功寫入 Google Sheet。---\n",
            "以下是 AI 生成的摘要內容：\n",
            "--------------------------------------------------\n",
            "**成績摘要:**\n",
            "\n",
            "2025年9月25日，學生在科目a、b、c的成績分別為10、20和30。  科目c的成績最高，科目a的成績最低。\n",
            "\n",
            "\n",
            "**常見迷思整理 (基於僅有的資料，可能無法涵蓋所有迷思):**\n",
            "\n",
            "* **迷思一：單次測驗成績代表整體學習能力:**  僅憑這一次的成績，無法完整評估學生的學習能力和理解程度。  學生在其他方面可能表現突出，而這一次的測驗成績可能受到許多因素影響(例如：當天身體狀況、考試題型等)。\n",
            "\n",
            "* **迷思二：高分代表完全掌握知識:**  即使科目c取得最高分，也不代表學生完全掌握該科目的所有知識點。  可能只是在這次考試中表現較好。\n",
            "\n",
            "\n",
            "由於資料有限，以上僅為初步的摘要和常見迷思整理。  若有更多學生的成績資料，可以進行更深入的分析。\n",
            "\n",
            "--------------------------------------------------\n"
          ]
        }
      ]
    }
  ]
}